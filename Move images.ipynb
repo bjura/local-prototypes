{
 "cells": [
  {
   "cell_type": "code",
   "execution_count": 2,
   "id": "9d1ca741",
   "metadata": {
    "ExecuteTime": {
     "end_time": "2022-10-12T07:58:53.644345Z",
     "start_time": "2022-10-12T07:58:50.268796Z"
    }
   },
   "outputs": [
    {
     "data": {
      "application/vnd.jupyter.widget-view+json": {
       "model_id": "f608ddd5033a477c8a1d2a5a1781ea7d",
       "version_major": 2,
       "version_minor": 0
      },
      "text/plain": [
       "  0%|          | 0/7632 [00:00<?, ?it/s]"
      ]
     },
     "metadata": {},
     "output_type": "display_data"
    }
   ],
   "source": [
    "import os\n",
    "from tqdm.auto import tqdm\n",
    "import shutil\n",
    "\n",
    "proto_dir = '/media/mikolaj/HDD/ml_data/local_prototypes/2022_10_09_resnet_34_layer2/img/epoch-160'\n",
    "output_dir = proto_dir + '_structured'\n",
    "\n",
    "os.makedirs(output_dir, exist_ok=True)\n",
    "\n",
    "PROTO_PER_CLASS = 10\n",
    "\n",
    "for file in tqdm(os.listdir(proto_dir)):\n",
    "    if file.startswith('prototype-img-original_with_self_act'):\n",
    "        proto_num = int(file.split('prototype-img-original_with_self_act')[-1].split('.')[0])\n",
    "        new_file = 'original_with_self_act'\n",
    "    elif file.startswith('prototype-img-original'):\n",
    "        proto_num = int(file.split('prototype-img-original')[-1].split('.')[0])\n",
    "        new_file = 'original'\n",
    "    elif file.startswith('prototype-img-'):\n",
    "        continue\n",
    "    elif file.startswith('prototype-img'):\n",
    "        proto_num = int(file.split('prototype-img')[-1].split('.')[0])\n",
    "        new_file = 'prototype'\n",
    "    else:\n",
    "        continue\n",
    "        \n",
    "    class_num = int(proto_num / PROTO_PER_CLASS)\n",
    "    class_dir = os.path.join(output_dir, str(class_num))\n",
    "    os.makedirs(class_dir, exist_ok=True)\n",
    "    shutil.copy(os.path.join(proto_dir, file), os.path.join(class_dir, str(proto_num) + '_' + new_file + \".png\"))"
   ]
  },
  {
   "cell_type": "code",
   "execution_count": 8,
   "id": "a8772b7c",
   "metadata": {
    "ExecuteTime": {
     "end_time": "2022-10-12T08:02:42.791044Z",
     "start_time": "2022-10-12T08:02:42.769217Z"
    }
   },
   "outputs": [
    {
     "name": "stdout",
     "output_type": "stream",
     "text": [
      "ProtoPNet - Resnet34 backbone\n"
     ]
    },
    {
     "data": {
      "text/html": [
       "<div>\n",
       "<style scoped>\n",
       "    .dataframe tbody tr th:only-of-type {\n",
       "        vertical-align: middle;\n",
       "    }\n",
       "\n",
       "    .dataframe tbody tr th {\n",
       "        vertical-align: top;\n",
       "    }\n",
       "\n",
       "    .dataframe thead th {\n",
       "        text-align: right;\n",
       "    }\n",
       "</style>\n",
       "<table border=\"1\" class=\"dataframe\">\n",
       "  <thead>\n",
       "    <tr style=\"text-align: right;\">\n",
       "      <th></th>\n",
       "      <th>num layers</th>\n",
       "      <th>num patches</th>\n",
       "      <th>test accuracy %</th>\n",
       "    </tr>\n",
       "  </thead>\n",
       "  <tbody>\n",
       "    <tr>\n",
       "      <th>0</th>\n",
       "      <td>2</td>\n",
       "      <td>28x28</td>\n",
       "      <td>67.97</td>\n",
       "    </tr>\n",
       "    <tr>\n",
       "      <th>1</th>\n",
       "      <td>3</td>\n",
       "      <td>14x14</td>\n",
       "      <td>72.76</td>\n",
       "    </tr>\n",
       "    <tr>\n",
       "      <th>2</th>\n",
       "      <td>4</td>\n",
       "      <td>7x7</td>\n",
       "      <td>77.32</td>\n",
       "    </tr>\n",
       "    <tr>\n",
       "      <th>3</th>\n",
       "      <td>4 (in paper)</td>\n",
       "      <td>7x7</td>\n",
       "      <td>79.20</td>\n",
       "    </tr>\n",
       "  </tbody>\n",
       "</table>\n",
       "</div>"
      ],
      "text/plain": [
       "     num layers num patches  test accuracy %\n",
       "0             2       28x28            67.97\n",
       "1             3       14x14            72.76\n",
       "2             4         7x7            77.32\n",
       "3  4 (in paper)         7x7            79.20"
      ]
     },
     "execution_count": 8,
     "metadata": {},
     "output_type": "execute_result"
    }
   ],
   "source": [
    "import pandas as pd\n",
    "\n",
    "print(\"ProtoPNet - Resnet34 backbone\")\n",
    "\n",
    "table = {\n",
    "    'num layers': [\"2\", \"3\", \"4\", \"4 (in paper)\"],\n",
    "    'num patches': [\"28x28\", \"14x14\", \"7x7\", \"7x7\"],\n",
    "    'test accuracy %': [67.97, 72.76, 77.32, 79.2],\n",
    "}\n",
    "\n",
    "pd.DataFrame(table)"
   ]
  }
 ],
 "metadata": {
  "hide_input": false,
  "kernelspec": {
   "display_name": "Python 3 (ipykernel)",
   "language": "python",
   "name": "python3"
  },
  "language_info": {
   "codemirror_mode": {
    "name": "ipython",
    "version": 3
   },
   "file_extension": ".py",
   "mimetype": "text/x-python",
   "name": "python",
   "nbconvert_exporter": "python",
   "pygments_lexer": "ipython3",
   "version": "3.9.7"
  }
 },
 "nbformat": 4,
 "nbformat_minor": 5
}
